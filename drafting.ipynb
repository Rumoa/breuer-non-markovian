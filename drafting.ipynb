{
 "cells": [
  {
   "cell_type": "code",
   "execution_count": 229,
   "metadata": {},
   "outputs": [],
   "source": [
    "import numpy as np\n",
    "import qutip as qt\n",
    "import jax\n",
    "import jax.numpy as jnp\n",
    "from jax import jit\n",
    "import matplotlib.pyplot as plt\n",
    "from qbism import sic_povm"
   ]
  },
  {
   "cell_type": "code",
   "execution_count": 256,
   "metadata": {},
   "outputs": [
    {
     "name": "stdout",
     "output_type": "stream",
     "text": [
      "\u001b[0;31mSignature:\u001b[0m \u001b[0mqt\u001b[0m\u001b[0;34m.\u001b[0m\u001b[0mrand_dm_ginibre\u001b[0m\u001b[0;34m(\u001b[0m\u001b[0mN\u001b[0m\u001b[0;34m=\u001b[0m\u001b[0;36m2\u001b[0m\u001b[0;34m,\u001b[0m \u001b[0mrank\u001b[0m\u001b[0;34m=\u001b[0m\u001b[0;32mNone\u001b[0m\u001b[0;34m,\u001b[0m \u001b[0mdims\u001b[0m\u001b[0;34m=\u001b[0m\u001b[0;32mNone\u001b[0m\u001b[0;34m,\u001b[0m \u001b[0mseed\u001b[0m\u001b[0;34m=\u001b[0m\u001b[0;32mNone\u001b[0m\u001b[0;34m)\u001b[0m\u001b[0;34m\u001b[0m\u001b[0;34m\u001b[0m\u001b[0m\n",
      "\u001b[0;31mDocstring:\u001b[0m\n",
      "Returns a Ginibre random density operator of dimension\n",
      "``dim`` and rank ``rank`` by using the algorithm of\n",
      "[BCSZ08]_. If ``rank`` is `None`, a full-rank\n",
      "(Hilbert-Schmidt ensemble) random density operator will be\n",
      "returned.\n",
      "\n",
      "Parameters\n",
      "----------\n",
      "N : int\n",
      "    Dimension of the density operator to be returned.\n",
      "dims : list\n",
      "    Dimensions of quantum object.  Used for specifying\n",
      "    tensor structure. Default is dims=[[N],[N]].\n",
      "\n",
      "rank : int or None\n",
      "    Rank of the sampled density operator. If None, a full-rank\n",
      "    density operator is generated.\n",
      "\n",
      "Returns\n",
      "-------\n",
      "rho : Qobj\n",
      "    An N × N density operator sampled from the Ginibre\n",
      "    or Hilbert-Schmidt distribution.\n",
      "\u001b[0;31mFile:\u001b[0m      ~/miniconda3/envs/jax_qdots/lib/python3.12/site-packages/qutip/random_objects.py\n",
      "\u001b[0;31mType:\u001b[0m      function"
     ]
    }
   ],
   "source": [
    "?qt.rand_dm_ginibre"
   ]
  },
  {
   "cell_type": "code",
   "execution_count": 291,
   "metadata": {},
   "outputs": [],
   "source": [
    "\n",
    "N = 1000\n",
    "initial_rho_array = jnp.array([qt.rand_dm_ginibre(2) for _ in range(N)])"
   ]
  },
  {
   "cell_type": "code",
   "execution_count": 292,
   "metadata": {},
   "outputs": [
    {
     "data": {
      "text/plain": [
       "(1000, 2, 2)"
      ]
     },
     "execution_count": 292,
     "metadata": {},
     "output_type": "execute_result"
    }
   ],
   "source": [
    "initial_rho_array.shape"
   ]
  },
  {
   "cell_type": "code",
   "execution_count": 21,
   "metadata": {},
   "outputs": [
    {
     "data": {
      "text/plain": [
       "Array([[0.6205978 +0.j        , 0.2705438 -0.13533728j],\n",
       "       [0.2705438 +0.13533728j, 0.37940222+0.j        ]], dtype=complex64)"
      ]
     },
     "execution_count": 21,
     "metadata": {},
     "output_type": "execute_result"
    }
   ],
   "source": [
    "initial_rho0 = jnp.array(qt.rand_dm(2, seed=8).full())\n",
    "initial_rho0"
   ]
  },
  {
   "cell_type": "code",
   "execution_count": 17,
   "metadata": {},
   "outputs": [],
   "source": [
    "@jit\n",
    "def vec(A):\n",
    "    return A.flatten()"
   ]
  },
  {
   "cell_type": "code",
   "execution_count": 270,
   "metadata": {},
   "outputs": [],
   "source": [
    "@jit\n",
    "def generate_map(G):\n",
    "    g_of_t = G\n",
    "    return jnp.array(\n",
    "        [\n",
    "            [jnp.conjugate(g_of_t) * g_of_t, 0, 0, 0],\n",
    "            [0, g_of_t, 0, 0],\n",
    "            [0, 0, jnp.conjugate(g_of_t), 0],\n",
    "            [1 - jnp.conjugate(g_of_t) * g_of_t, 0, 0, 1],\n",
    "        ]\n",
    "    )"
   ]
  },
  {
   "cell_type": "code",
   "execution_count": 271,
   "metadata": {},
   "outputs": [],
   "source": [
    "@jit\n",
    "def G(t, lamda, gamma_0):\n",
    "    delta = jnp.sqrt((1 - 2 * gamma_0 / lamda) + 1j*0)\n",
    "    return jnp.exp(-lamda * t / 2) * (\n",
    "        jnp.cosh(lamda * t / 2 * delta)\n",
    "        + 1 / delta * jnp.sinh(lamda * t / 2 * delta)\n",
    "    )"
   ]
  },
  {
   "cell_type": "code",
   "execution_count": 293,
   "metadata": {},
   "outputs": [],
   "source": [
    "@jit\n",
    "def name_of_fun(\n",
    "    initial_state,\n",
    "    sic_povm_array,\n",
    "    times_array,\n",
    "    lamda,\n",
    "    gamma_0,\n",
    "):\n",
    "    evolved_rho = jax.vmap(\n",
    "        lambda t: generate_map(G(t, lamda, gamma_0)) @ vec(initial_state)\n",
    "    )(times_array)\n",
    "\n",
    "    evolved_probabilities = jax.vmap(\n",
    "        lambda rho: jnp.einsum(\"kj, ijk\", rho.reshape(2, 2), sic_povm_array)\n",
    "    )(evolved_rho)\n",
    "\n",
    "    return evolved_probabilities"
   ]
  },
  {
   "cell_type": "code",
   "execution_count": 283,
   "metadata": {},
   "outputs": [],
   "source": [
    "sic_array = jnp.array(sic_povm(2))"
   ]
  },
  {
   "cell_type": "code",
   "execution_count": null,
   "metadata": {},
   "outputs": [],
   "source": []
  },
  {
   "cell_type": "code",
   "execution_count": 285,
   "metadata": {},
   "outputs": [
    {
     "data": {
      "text/plain": [
       "(500, 4)"
      ]
     },
     "execution_count": 285,
     "metadata": {},
     "output_type": "execute_result"
    }
   ],
   "source": []
  },
  {
   "cell_type": "code",
   "execution_count": 296,
   "metadata": {},
   "outputs": [],
   "source": [
    "lamda = 0.8\n",
    "# gamma_0 = 0.8 * lamda / 2  # weak coupling\n",
    "gamma_0 = 20 * lamda / 2  # strong coupling\n",
    "\n",
    "\n",
    "times = np.linspace(0, 10, 5000)\n",
    "\n",
    "initial_rho0 = jnp.array(qt.rand_dm(2, seed=8).full())\n",
    "\n",
    "sic_array = jnp.array(sic_povm(2))\n",
    "\n",
    "\n",
    "# jax.jit(name_of_fun)(initial_rho0, sic_array, times, lamda, gamma_0)\n",
    "\n",
    "evolved_probabilities_array = (jax.vmap(lambda rho_i:(name_of_fun)(rho_i, sic_array, times, lamda, gamma_0) )(initial_rho_array))"
   ]
  },
  {
   "cell_type": "code",
   "execution_count": 303,
   "metadata": {},
   "outputs": [
    {
     "data": {
      "text/plain": [
       "['first_dataset.job']"
      ]
     },
     "execution_count": 303,
     "metadata": {},
     "output_type": "execute_result"
    }
   ],
   "source": [
    "import joblib\n",
    "\n",
    "data_to_save = {\n",
    "    \"lambda\": lamda,\n",
    "    \"gamma_0\": gamma_0,\n",
    "    \"times\": times,\n",
    "    \"Initial_rhos\": initial_rho_array,\n",
    "    \"povm_arr\": sic_array,\n",
    "    \"prob arr\": evolved_probabilities_array,\n",
    "}\n",
    "\n",
    "joblib.dump(data_to_save, \"first_dataset.job\", compress=0)"
   ]
  },
  {
   "cell_type": "code",
   "execution_count": 273,
   "metadata": {},
   "outputs": [
    {
     "name": "stderr",
     "output_type": "stream",
     "text": [
      "/home/antonio/miniconda3/envs/jax_qdots/lib/python3.12/site-packages/jax/_src/array.py:407: ComplexWarning: Casting complex values to real discards the imaginary part\n",
      "  return np.asarray(self._value, dtype=dtype)\n"
     ]
    },
    {
     "data": {
      "image/png": "[encoded data removed]",
      "text/plain": [
       "<Figure size 640x480 with 1 Axes>"
      ]
     },
     "metadata": {},
     "output_type": "display_data"
    }
   ],
   "source": [
    "times = np.linspace(0, 10, 500)\n",
    "\n",
    "\n",
    "evolved_rho = (jax.vmap(\n",
    "    lambda t: generate_map(G(t, lamda, gamma_0))\n",
    "    @ vec(initial_rho0)\n",
    ")(times))\n",
    "\n",
    "\n",
    "# for i in range(4):\n",
    "#     plt.plot(times, evolved_rho[:, i])\n",
    "plt.plot(times, evolved_rho[:, 0])\n",
    "# plt.plot(times, evolved_rho[:, 3])\n",
    "plt.show()\n"
   ]
  },
  {
   "cell_type": "code",
   "execution_count": 274,
   "metadata": {},
   "outputs": [],
   "source": [
    "evolved_probabilities = jax.vmap(lambda rho: jnp.einsum('kj, ijk', rho.reshape(2, 2), jnp.array(sic_povm(2))))(evolved_rho)"
   ]
  },
  {
   "cell_type": "code",
   "execution_count": 275,
   "metadata": {},
   "outputs": [
    {
     "data": {
      "image/png": "[encoded data removed]",
      "text/plain": [
       "<Figure size 640x480 with 1 Axes>"
      ]
     },
     "metadata": {},
     "output_type": "display_data"
    }
   ],
   "source": [
    "plt.plot(\n",
    "    times,\n",
    "    jnp.real((jax.vmap(lambda t: G(t, lamda, gamma_0)))(times)),\n",
    "    label=\"Real\",\n",
    ")\n",
    "plt.legend()\n",
    "plt.show()"
   ]
  },
  {
   "cell_type": "code",
   "execution_count": 277,
   "metadata": {},
   "outputs": [
    {
     "data": {
      "image/png": "[encoded data removed]",
      "text/plain": [
       "<Figure size 640x480 with 1 Axes>"
      ]
     },
     "metadata": {},
     "output_type": "display_data"
    }
   ],
   "source": [
    "\n",
    "\n",
    "eigenvecs_time = jax.vmap(\n",
    "    lambda t: jnp.linalg.eigh(\n",
    "        generate_map(G(t, lamda, gamma_0))\n",
    "        .reshape(2, 2, 2, 2)\n",
    "        .swapaxes(1, 2)\n",
    "        .reshape(4, 4)\n",
    "    )[0]\n",
    ")(times)\n",
    "min_mal_evals = jnp.array(\n",
    "    jax.vmap(lambda a: [jnp.min(a), jnp.max(a)])(eigenvecs_time)\n",
    ")\n",
    "\n",
    "plt.plot(times, min_mal_evals[1], label=\"Max eval\")\n",
    "plt.plot(times, min_mal_evals[0], label=\"Min eval\")\n",
    "plt.legend()\n",
    "plt.show()"
   ]
  },
  {
   "cell_type": "markdown",
   "metadata": {},
   "source": [
    "# Superoperator part"
   ]
  },
  {
   "cell_type": "code",
   "execution_count": 307,
   "metadata": {},
   "outputs": [],
   "source": [
    "omega_0 = 1\n",
    "\n",
    "H = (omega_0*qt.sigmap()*qt.sigmam()).full()"
   ]
  },
  {
   "cell_type": "code",
   "execution_count": 309,
   "metadata": {},
   "outputs": [],
   "source": [
    "def dag(A):\n",
    "    return jnp.conjugate(A.T)\n",
    "\n",
    "\n",
    "def sprepost(A, B):\n",
    "    return jnp.kron(A, jnp.transpose(B))\n",
    "\n",
    "\n",
    "def spre(A):\n",
    "    return sprepost(A, jnp.identity(2))\n",
    "\n",
    "\n",
    "def spost(A):\n",
    "    return sprepost(jnp.identity(2), A)\n"
   ]
  },
  {
   "cell_type": "code",
   "execution_count": 313,
   "metadata": {},
   "outputs": [
    {
     "data": {
      "text/plain": [
       "Array([[-1. +0.j,  0. +0.j,  0. +0.j,  0. +0.j],\n",
       "       [ 0. +0.j, -0.5+0.j,  0. +0.j,  0. +0.j],\n",
       "       [ 0. +0.j,  0. +0.j, -0.5+0.j,  0. +0.j],\n",
       "       [ 1. +0.j,  0. +0.j,  0. +0.j,  0. +0.j]], dtype=complex64)"
      ]
     },
     "execution_count": 313,
     "metadata": {},
     "output_type": "execute_result"
    }
   ],
   "source": [
    "naked_dissipator = sprepost(\n",
    "    qt.sigmam().full(), qt.sigmam().dag().full()\n",
    ") - 0.5 * (\n",
    "    spre((qt.sigmap() * qt.sigmam()).full())\n",
    "    + spost((qt.sigmap() * qt.sigmam()).full())\n",
    ")\n",
    "\n",
    "naked_dissipator"
   ]
  }
 ],
 "metadata": {
  "kernelspec": {
   "display_name": "jax_qdots",
   "language": "python",
   "name": "python3"
  },
  "language_info": {
   "codemirror_mode": {
    "name": "ipython",
    "version": 3
   },
   "file_extension": ".py",
   "mimetype": "text/x-python",
   "name": "python",
   "nbconvert_exporter": "python",
   "pygments_lexer": "ipython3",
   "version": "3.12.1"
  }
 },
 "nbformat": 4,
 "nbformat_minor": 2
}
